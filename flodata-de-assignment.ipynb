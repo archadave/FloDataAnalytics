{
 "cells": [
  {
   "cell_type": "raw",
   "id": "2840ebb7-6131-4e83-b1fd-c21a2ff29a06",
   "metadata": {},
   "source": [
    "Part 1: Address Enrichment for Orders\n",
    "We are working with a third-party service provider for order analysis. While most orders information include an address, some do not. In such cases, the service provider provides an IP address instead. Our goal is to extract the city, state, and zip code using these IP addresses and update our orders database accordingly.  \n",
    "\n",
    "Tasks: \n",
    "1. Load Orders Data:\n",
    "Develop a function to load order data from a CSV file (orders_file.csv).  \n",
    "Insert data into orders table, ensuring duplicate uploads are ignored.  \n",
    "\n",
    "2. Load and Process IP Addresses:\n",
    "Create a function to load IP addresses from a CSV file (ip_address.csv).  \n",
    "Query multiple APIs to retrieve the corresponding city (optional), state, and zip code (mandatory).  \n",
    "Optimize API calls by reducing redundant requests.  \n",
    "This information must be saved in a database for re-using.  \n",
    "\n",
    "3. Update Orders and Export Data:  \n",
    "Update the orders table with retrieved location details.  \n",
    "Generate an export file containing order_number, city, state, and zip.  \n",
    "\n",
    "4. Prevent Reprocessing:\n",
    "Most of the customers place multiple orders. So, the IP address remains the same. Implement a mechanism to track and skip previously processed IP addresses, and use the information saved in the database instead.  \n",
    "\n",
    "5. Performance Optimization:\n",
    "Ensure efficient data lookup and processing for large datasets (100,000+ records).  \n",
    "Optimize API usage to fetch location data for all IPs in under 5 minutes.  \n",
    "\n",
    "\n",
    "\n",
    "Part 2: Sales Report Generation\n",
    "We need to generate a quarterly sales report by state and city for internal auditing.  \n",
    "\n",
    "Tasks:  \n",
    "1. Custom Report Generation:\n",
    "Develop a function that accepts state and year as inputs.  \n",
    "Aggregate sales by state, city, and quarter.  \n",
    "Generate an Excel file containing the relevant sales data.  (Use IL_state_sales_report_2021.xlsx as a reference. Output should be in the same format)\n",
    "Orders without a city value can be ignored.\n",
    "\n",
    "Deliverables  \n",
    "1. Python Script:\n",
    " Well-documented code implementing all required functionalities (using pandas).  \n",
    " Clear function definitions with comments explaining the logic.  \n",
    "\n",
    "2. SQL Statements:\n",
    "Scripts for creating and updating necessary database tables.  \n",
    "Queries for inserting, updating, and retrieving data.  \n",
    "\n",
    "3. Final Code Submission:\n",
    "The complete project must be submitted via a Git repository.  \n",
    "The repository should include a README file explaining the setup, execution steps, and any dependencies.  \n",
    "\n",
    "Note:\n",
    "While AI tools can be used for assistance, clear understanding of logic in the implementation must be demonstrated.  \n",
    "The approach, optimizations, and decisions should be well explained in the documentation or comments.\n"
   ]
  },
  {
   "cell_type": "code",
   "execution_count": 46,
   "id": "61b3b9ee-92f5-4142-b496-88815c3f3647",
   "metadata": {},
   "outputs": [],
   "source": [
    "# Import necessary libraries\n",
    "import pandas as pd\n",
    "import numpy as np\n",
    "import datetime\n",
    "import re\n",
    "import requests  # In a real scenario, you would use this to call external APIs\n",
    "import time\n",
    "from io import BytesIO\n"
   ]
  },
  {
   "cell_type": "code",
   "execution_count": 2,
   "id": "bb7e3fd9-d83e-451b-ab4e-fd6d8c6e6bb4",
   "metadata": {},
   "outputs": [],
   "source": [
    "# =============================================================================\n",
    "# PART 1: Address Enrichment for Orders\n",
    "# ============================================================================="
   ]
  },
  {
   "cell_type": "code",
   "execution_count": 3,
   "id": "293be28e-e739-4723-92c2-e2744b97bd94",
   "metadata": {},
   "outputs": [],
   "source": [
    "orders_df = pd.read_csv('orders_file.csv')"
   ]
  },
  {
   "cell_type": "code",
   "execution_count": 4,
   "id": "f8133d7e-711e-4b54-b0a9-a388e698b72b",
   "metadata": {},
   "outputs": [
    {
     "data": {
      "text/html": [
       "<div>\n",
       "<style scoped>\n",
       "    .dataframe tbody tr th:only-of-type {\n",
       "        vertical-align: middle;\n",
       "    }\n",
       "\n",
       "    .dataframe tbody tr th {\n",
       "        vertical-align: top;\n",
       "    }\n",
       "\n",
       "    .dataframe thead th {\n",
       "        text-align: right;\n",
       "    }\n",
       "</style>\n",
       "<table border=\"1\" class=\"dataframe\">\n",
       "  <thead>\n",
       "    <tr style=\"text-align: right;\">\n",
       "      <th></th>\n",
       "      <th>order_number</th>\n",
       "      <th>date</th>\n",
       "      <th>city</th>\n",
       "      <th>state</th>\n",
       "      <th>Zip</th>\n",
       "      <th>$ sale</th>\n",
       "    </tr>\n",
       "  </thead>\n",
       "  <tbody>\n",
       "    <tr>\n",
       "      <th>0</th>\n",
       "      <td>ch_3QcGwwD8UtMUbTdk0mC0Dj8x</td>\n",
       "      <td>2025-01-01</td>\n",
       "      <td>NaN</td>\n",
       "      <td>WI</td>\n",
       "      <td>54956</td>\n",
       "      <td>$67.00</td>\n",
       "    </tr>\n",
       "    <tr>\n",
       "      <th>1</th>\n",
       "      <td>ch_3QcGwND8UtMUbTdk1b3ZqCE3</td>\n",
       "      <td>2025-01-01</td>\n",
       "      <td>NaN</td>\n",
       "      <td>WI</td>\n",
       "      <td>54956</td>\n",
       "      <td>$14.97</td>\n",
       "    </tr>\n",
       "    <tr>\n",
       "      <th>2</th>\n",
       "      <td>ch_3QcGvVD8UtMUbTdk07xs732y</td>\n",
       "      <td>2025-01-01</td>\n",
       "      <td>NaN</td>\n",
       "      <td>WI</td>\n",
       "      <td>54956</td>\n",
       "      <td>$19.97</td>\n",
       "    </tr>\n",
       "    <tr>\n",
       "      <th>3</th>\n",
       "      <td>ch_3QcGumD8UtMUbTdk1bWLVF4q</td>\n",
       "      <td>2025-01-01</td>\n",
       "      <td>NaN</td>\n",
       "      <td>WI</td>\n",
       "      <td>54956</td>\n",
       "      <td>$74.00</td>\n",
       "    </tr>\n",
       "    <tr>\n",
       "      <th>4</th>\n",
       "      <td>ch_3QcEvAD8UtMUbTdk0ZHANuNZ</td>\n",
       "      <td>2024-12-31</td>\n",
       "      <td>NaN</td>\n",
       "      <td>NC</td>\n",
       "      <td>27028</td>\n",
       "      <td>$19.97</td>\n",
       "    </tr>\n",
       "  </tbody>\n",
       "</table>\n",
       "</div>"
      ],
      "text/plain": [
       "                  order_number        date  city state    Zip    $ sale\n",
       "0  ch_3QcGwwD8UtMUbTdk0mC0Dj8x  2025-01-01   NaN    WI  54956   $67.00 \n",
       "1  ch_3QcGwND8UtMUbTdk1b3ZqCE3  2025-01-01   NaN    WI  54956   $14.97 \n",
       "2  ch_3QcGvVD8UtMUbTdk07xs732y  2025-01-01   NaN    WI  54956   $19.97 \n",
       "3  ch_3QcGumD8UtMUbTdk1bWLVF4q  2025-01-01   NaN    WI  54956   $74.00 \n",
       "4  ch_3QcEvAD8UtMUbTdk0ZHANuNZ  2024-12-31   NaN    NC  27028   $19.97 "
      ]
     },
     "execution_count": 4,
     "metadata": {},
     "output_type": "execute_result"
    }
   ],
   "source": [
    "orders_df.head()"
   ]
  },
  {
   "cell_type": "code",
   "execution_count": 5,
   "id": "10ef5f5f-a0cc-4684-8112-ca8ea62d5737",
   "metadata": {},
   "outputs": [
    {
     "name": "stdout",
     "output_type": "stream",
     "text": [
      "<class 'pandas.core.frame.DataFrame'>\n",
      "RangeIndex: 95672 entries, 0 to 95671\n",
      "Data columns (total 6 columns):\n",
      " #   Column        Non-Null Count  Dtype  \n",
      "---  ------        --------------  -----  \n",
      " 0   order_number  95672 non-null  object \n",
      " 1   date          95672 non-null  object \n",
      " 2   city          0 non-null      float64\n",
      " 3   state         69931 non-null  object \n",
      " 4   Zip           94282 non-null  object \n",
      " 5   $ sale        95672 non-null  object \n",
      "dtypes: float64(1), object(5)\n",
      "memory usage: 4.4+ MB\n"
     ]
    }
   ],
   "source": [
    "orders_df.info()"
   ]
  },
  {
   "cell_type": "code",
   "execution_count": 16,
   "id": "c0d2b436-10bc-4ff1-b5e4-665e992db11a",
   "metadata": {},
   "outputs": [],
   "source": [
    "orders_df.drop_duplicates(subset='order_number', inplace=True)"
   ]
  },
  {
   "cell_type": "code",
   "execution_count": 17,
   "id": "0abd3ed4-92a4-4af1-aff3-9c04c32c5958",
   "metadata": {},
   "outputs": [
    {
     "name": "stdout",
     "output_type": "stream",
     "text": [
      "<class 'pandas.core.frame.DataFrame'>\n",
      "Int64Index: 95653 entries, 0 to 95671\n",
      "Data columns (total 6 columns):\n",
      " #   Column        Non-Null Count  Dtype  \n",
      "---  ------        --------------  -----  \n",
      " 0   order_number  95653 non-null  object \n",
      " 1   date          95653 non-null  object \n",
      " 2   city          0 non-null      float64\n",
      " 3   state         69922 non-null  object \n",
      " 4   Zip           94263 non-null  object \n",
      " 5   $ sale        95653 non-null  object \n",
      "dtypes: float64(1), object(5)\n",
      "memory usage: 5.1+ MB\n"
     ]
    }
   ],
   "source": [
    "orders_df.info()"
   ]
  },
  {
   "cell_type": "code",
   "execution_count": 33,
   "id": "74b7ff01-5466-4cc2-b594-c3b39b84a728",
   "metadata": {},
   "outputs": [],
   "source": [
    "# Function 1: Load Orders Data\n",
    "def load_orders_data(filename):\n",
    "    # Read the CSV file\n",
    "    orders_df = pd.read_csv(filename)\n",
    "    \n",
    "    # Drop duplicate orders\n",
    "    orders_df.drop_duplicates(subset='order_number', inplace=True)\n",
    "    \n",
    "    # Convert the 'date' column from string(object) format (e.g., \"01/01/25\") to datetime format.\n",
    "    # Assuming the date format is MM/DD/YY, use appropriate format.\n",
    "    orders_df['date'] = pd.to_datetime(orders_df['date'], format='%Y-%m-%d', errors='coerce')\n",
    "    \n",
    "    # Convert sales from string (e.g., \"$55.00\") to a float.\n",
    "    # Removing the dollar sign and convert to float.\n",
    "    orders_df['sales'] = orders_df['$ sale'].replace('[\\$,]', '', regex=True).astype(float)\n",
    "    \n",
    "    # Drop the original '$sales' column as we now have a numeric 'sales' column.\n",
    "    orders_df.drop(columns=['$ sale'], inplace=True)\n",
    "    \n",
    "    return orders_df"
   ]
  },
  {
   "cell_type": "code",
   "execution_count": 34,
   "id": "a86c97e7-e2b1-4be7-b5ae-d05a8c3f0f69",
   "metadata": {},
   "outputs": [],
   "source": [
    "order_df = load_orders_data('orders_file.csv')"
   ]
  },
  {
   "cell_type": "code",
   "execution_count": 35,
   "id": "a7ac49d2-bb8d-4202-a257-0aa87d4e4e64",
   "metadata": {},
   "outputs": [],
   "source": [
    "##validating"
   ]
  },
  {
   "cell_type": "code",
   "execution_count": 36,
   "id": "91fcf937-84e9-49f6-9eea-53538e129700",
   "metadata": {},
   "outputs": [
    {
     "name": "stdout",
     "output_type": "stream",
     "text": [
      "<class 'pandas.core.frame.DataFrame'>\n",
      "Int64Index: 95653 entries, 0 to 95671\n",
      "Data columns (total 6 columns):\n",
      " #   Column        Non-Null Count  Dtype         \n",
      "---  ------        --------------  -----         \n",
      " 0   order_number  95653 non-null  object        \n",
      " 1   date          95653 non-null  datetime64[ns]\n",
      " 2   city          0 non-null      float64       \n",
      " 3   state         69922 non-null  object        \n",
      " 4   Zip           94263 non-null  object        \n",
      " 5   sales         95653 non-null  float64       \n",
      "dtypes: datetime64[ns](1), float64(2), object(3)\n",
      "memory usage: 5.1+ MB\n"
     ]
    }
   ],
   "source": [
    "order_df.info()"
   ]
  },
  {
   "cell_type": "code",
   "execution_count": 37,
   "id": "c1c9600c-53d8-461b-b4ad-c406fca6d6cc",
   "metadata": {},
   "outputs": [],
   "source": [
    "##function is correct "
   ]
  },
  {
   "cell_type": "code",
   "execution_count": 38,
   "id": "c6e9c858-8af9-4d95-b602-bbca10173b6d",
   "metadata": {},
   "outputs": [
    {
     "name": "stdout",
     "output_type": "stream",
     "text": [
      "                  order_number state    Zip\n",
      "0  ch_3QcGwwD8UtMUbTdk0mC0Dj8x    WI  54956\n",
      "1  ch_3QcGwND8UtMUbTdk1b3ZqCE3    WI  54956\n",
      "2  ch_3QcGvVD8UtMUbTdk07xs732y    WI  54956\n",
      "3  ch_3QcGumD8UtMUbTdk1bWLVF4q    WI  54956\n",
      "4  ch_3QcEvAD8UtMUbTdk0ZHANuNZ    NC  27028\n"
     ]
    }
   ],
   "source": [
    "# Function 2: Load and Process IP Addresses\n",
    "\n",
    "def load_and_merge_ip_data(order_df , ip_file):\n",
    "    \"\"\"\n",
    "    written for my understanding\n",
    "    Now we use the order_df which has city, stae and zip code of some orders, rest of the orders have ip_addreses given,\n",
    "    let's get the city, stae and the zip code for those orders wothout address using zipcode \n",
    "    \"\"\"\n",
    "    # using the already cleaned orders df from the function before\n",
    "    orders_df = order_df\n",
    "\n",
    "    # Load the IP addresses file\n",
    "    ip_df = pd.read_csv(ip_file)\n",
    "\n",
    "    # Merge orders with IP addresses using order_number\n",
    "    merged_df = orders_df.merge(ip_df, on=\"order_number\", how=\"left\")\n",
    "\n",
    "    # Select only required columns, leaving city cause ot's nulll completely\n",
    "    result_df = merged_df[['order_number', 'state', 'Zip']]\n",
    "\n",
    "    return result_df\n",
    "\n",
    "\n",
    "ip_file = \"ip_addresses.csv\"\n",
    "final_df = load_and_merge_ip_data(order_df, ip_file)\n",
    "\n",
    "\n",
    "print(final_df.head())\n"
   ]
  },
  {
   "cell_type": "code",
   "execution_count": 39,
   "id": "bac00d26-6333-4b55-9146-e7cf9055829d",
   "metadata": {},
   "outputs": [],
   "source": [
    "# Function 3. Update Orders and Export Data:  \n",
    "def update_orders_with_location(final_df):\n",
    "    ## just simple export becasue no SQL DB connection or API information is provided, dummy queries are listed below \n",
    "    final_df.to_excel('new_orders_report_with_location_info.xlsx', index = False)"
   ]
  },
  {
   "cell_type": "code",
   "execution_count": 40,
   "id": "c9941fe9-fa74-4ba9-a5a0-3ffe9f4d415d",
   "metadata": {},
   "outputs": [],
   "source": [
    "# =============================================================================\n",
    "# PART 2: Sales Report Generation\n",
    "# ============================================================================="
   ]
  },
  {
   "cell_type": "code",
   "execution_count": 43,
   "id": "10d81a78-7fec-49d5-b97c-bc7d66261a88",
   "metadata": {},
   "outputs": [],
   "source": [
    "# Function 4. Custom Report Generation:\n",
    "def generate_sales_report(order_df, state, year, output_file):\n",
    "    \"\"\"\n",
    "    Develop a function that accepts state and year as inputs.  \n",
    "    Aggregate sales by state, city, and quarter.  \n",
    "    Generate an Excel file containing the relevant sales data.  (Use IL_state_sales_report_2021.xlsx as a reference. Output should be in the same format)\n",
    "    Orders without a city value can be ignored.\n",
    "    \"\"\"\n",
    "    # Filter orders by the given state and year, city is removed because it dosen't have any value\n",
    "    filtered_df = order_df[(order_df['state'] == state) & \n",
    "                            (order_df['date'].dt.year == year)\n",
    "                            ]\n",
    "    \n",
    "    # Creating a quarter column based on the month of the order.\n",
    "    filtered_df['quarter'] = filtered_df['date'].dt.month.apply(lambda x: f\"Q{((x-1)//3)+1}\")\n",
    "    \n",
    "    # aggregate by state and quarter and getting the total sales\n",
    "    report_df = filtered_df.groupby(['state', 'quarter'])['sales'].sum().reset_index()\n",
    "    \n",
    "    # Pivot the table to have quarters as columns if needed (to match the reference format)\n",
    "    report_pivot = report_df.pivot_table(index=['state'], columns='quarter', values='sales', fill_value=0).reset_index()\n",
    "   \n",
    "    \n",
    "    # Export the report to an Excel file\n",
    "    report_pivot.to_excel(output_file, index=False)\n",
    "    print(f\"Sales report generated and saved to {output_file}\")"
   ]
  },
  {
   "cell_type": "code",
   "execution_count": 44,
   "id": "9851b82e-d44d-40f4-9d1d-98ba6c368a34",
   "metadata": {},
   "outputs": [
    {
     "name": "stdout",
     "output_type": "stream",
     "text": [
      "Sales report generated and saved to output_file_flodata.xlsx\n"
     ]
    }
   ],
   "source": [
    "generate_sales_report(order_df, 'IL', 2021, 'output_file_flodata.xlsx')"
   ]
  },
  {
   "cell_type": "code",
   "execution_count": 47,
   "id": "3112d1bd-a3de-491e-bb59-3361bd465b15",
   "metadata": {},
   "outputs": [
    {
     "data": {
      "text/plain": [
       "\"\\n-- SQL for creating necessary tables:\\n\\n-- Orders table\\nCREATE TABLE orders (\\n    order_number VARCHAR(50) PRIMARY KEY,\\n    date DATE,\\n    city VARCHAR(100),\\n    state VARCHAR(2),\\n    zip VARCHAR(10),\\n    sales DECIMAL(10,2)\\n);\\n\\n-- IP addresses table (to store raw IP data linked to orders)\\nCREATE TABLE ip_addresses (\\n    order_number VARCHAR(50),\\n    ip_address VARCHAR(50),\\n    PRIMARY KEY (order_number, ip_address)\\n);\\n\\n-- IP location cache table to avoid redundant API calls\\nCREATE TABLE ip_location_cache (\\n    ip_address VARCHAR(50) PRIMARY KEY,\\n    city VARCHAR(100),\\n    state VARCHAR(2),\\n    zip VARCHAR(10)\\n);\\n\\n-- SQL for inserting/updating orders (example for PostgreSQL):\\nINSERT INTO orders (order_number, date, city, state, zip, sales)\\nVALUES ('12345', '2021-01-01', 'Milwaukee', 'WI', '53202', 55.00)\\n\\n\\n-- SQL for updating orders with location details:\\nUPDATE orders\\nSET city = ip_loc.city,\\n    state = ip_loc.state,\\n    zip = ip_loc.zip\\nFROM ip_location_cache ip_loc\\nWHERE orders.order_number IN (\\n    SELECT order_number FROM ip_addresses WHERE ip_address = ip_loc.ip_address\\n);\\n\""
      ]
     },
     "execution_count": 47,
     "metadata": {},
     "output_type": "execute_result"
    }
   ],
   "source": [
    "# =============================================================================\n",
    "# SQL STATEMENTS (as comments)\n",
    "# =============================================================================\n",
    "\"\"\"\n",
    "-- SQL for creating necessary tables:\n",
    "\n",
    "-- Orders table\n",
    "CREATE TABLE orders (\n",
    "    order_number VARCHAR(50) PRIMARY KEY,\n",
    "    date DATE,\n",
    "    city VARCHAR(100),\n",
    "    state VARCHAR(2),\n",
    "    zip VARCHAR(10),\n",
    "    sales DECIMAL(10,2)\n",
    ");\n",
    "\n",
    "-- IP addresses table (to store raw IP data linked to orders)\n",
    "CREATE TABLE ip_addresses (\n",
    "    order_number VARCHAR(50),\n",
    "    ip_address VARCHAR(50),\n",
    "    PRIMARY KEY (order_number, ip_address)\n",
    ");\n",
    "\n",
    "-- IP location cache table to avoid redundant API calls\n",
    "CREATE TABLE ip_location_cache (\n",
    "    ip_address VARCHAR(50) PRIMARY KEY,\n",
    "    city VARCHAR(100),\n",
    "    state VARCHAR(2),\n",
    "    zip VARCHAR(10)\n",
    ");\n",
    "\n",
    "-- SQL for inserting/updating orders (example for PostgreSQL):\n",
    "INSERT INTO orders (order_number, date, city, state, zip, sales)\n",
    "VALUES ('12345', '2021-01-01', 'Milwaukee', 'WI', '53202', 55.00)\n",
    "\n",
    "\n",
    "-- SQL for updating orders with location details:\n",
    "UPDATE orders\n",
    "SET city = ip_loc.city,\n",
    "    state = ip_loc.state,\n",
    "    zip = ip_loc.zip\n",
    "FROM ip_location_cache ip_loc\n",
    "WHERE orders.order_number IN (\n",
    "    SELECT order_number FROM ip_addresses WHERE ip_address = ip_loc.ip_address\n",
    ");\n",
    "\"\"\""
   ]
  },
  {
   "cell_type": "code",
   "execution_count": null,
   "id": "b300c4d8-ad7a-4977-b58f-e005c97daf07",
   "metadata": {},
   "outputs": [],
   "source": []
  }
 ],
 "metadata": {
  "kernelspec": {
   "display_name": "Python 3 (ipykernel)",
   "language": "python",
   "name": "python3"
  },
  "language_info": {
   "codemirror_mode": {
    "name": "ipython",
    "version": 3
   },
   "file_extension": ".py",
   "mimetype": "text/x-python",
   "name": "python",
   "nbconvert_exporter": "python",
   "pygments_lexer": "ipython3",
   "version": "3.8.10"
  }
 },
 "nbformat": 4,
 "nbformat_minor": 5
}
